{
 "cells": [
  {
   "cell_type": "code",
   "execution_count": 1,
   "id": "c02bcf53",
   "metadata": {},
   "outputs": [],
   "source": [
    "import pandas as pd"
   ]
  },
  {
   "cell_type": "code",
   "execution_count": 2,
   "id": "bc944e19",
   "metadata": {},
   "outputs": [],
   "source": [
    "pd.set_option(\"display.max_rows\", 20)"
   ]
  },
  {
   "cell_type": "markdown",
   "id": "3c1ddd9a",
   "metadata": {},
   "source": [
    "### Read the file"
   ]
  },
  {
   "cell_type": "code",
   "execution_count": 3,
   "id": "77cef5b6",
   "metadata": {},
   "outputs": [],
   "source": [
    "data = pd.read_excel(\"bmtfiles/work.xlsx\")"
   ]
  },
  {
   "cell_type": "code",
   "execution_count": 4,
   "id": "f26a5c38",
   "metadata": {},
   "outputs": [
    {
     "data": {
      "text/html": [
       "<div>\n",
       "<style scoped>\n",
       "    .dataframe tbody tr th:only-of-type {\n",
       "        vertical-align: middle;\n",
       "    }\n",
       "\n",
       "    .dataframe tbody tr th {\n",
       "        vertical-align: top;\n",
       "    }\n",
       "\n",
       "    .dataframe thead th {\n",
       "        text-align: right;\n",
       "    }\n",
       "</style>\n",
       "<table border=\"1\" class=\"dataframe\">\n",
       "  <thead>\n",
       "    <tr style=\"text-align: right;\">\n",
       "      <th></th>\n",
       "      <th>ExpertiseId</th>\n",
       "      <th>Element</th>\n",
       "      <th>Location</th>\n",
       "      <th>Damage</th>\n",
       "      <th>ImagePath</th>\n",
       "    </tr>\n",
       "  </thead>\n",
       "  <tbody>\n",
       "    <tr>\n",
       "      <th>0</th>\n",
       "      <td>4565</td>\n",
       "      <td>pojazd</td>\n",
       "      <td>zew.</td>\n",
       "      <td>poglądowe</td>\n",
       "      <td>bmtfiles/photos/4565/20240909_101359222_md_ima...</td>\n",
       "    </tr>\n",
       "    <tr>\n",
       "      <th>1</th>\n",
       "      <td>4575</td>\n",
       "      <td>pojazd</td>\n",
       "      <td>zew.</td>\n",
       "      <td>poglądowe</td>\n",
       "      <td>bmtfiles/photos/4575/20240909_115602474_md_ima...</td>\n",
       "    </tr>\n",
       "    <tr>\n",
       "      <th>2</th>\n",
       "      <td>4561</td>\n",
       "      <td>pojazd</td>\n",
       "      <td>zew.</td>\n",
       "      <td>poglądowe</td>\n",
       "      <td>bmtfiles/photos/4561/photo.jpg</td>\n",
       "    </tr>\n",
       "    <tr>\n",
       "      <th>3</th>\n",
       "      <td>4554</td>\n",
       "      <td>pojazd</td>\n",
       "      <td>zew.</td>\n",
       "      <td>poglądowe</td>\n",
       "      <td>bmtfiles/photos/4554/photo.jpg</td>\n",
       "    </tr>\n",
       "    <tr>\n",
       "      <th>4</th>\n",
       "      <td>3359</td>\n",
       "      <td>pojazd</td>\n",
       "      <td>zew.</td>\n",
       "      <td>poglądowe</td>\n",
       "      <td>bmtfiles/photos/3359/photo.jpg</td>\n",
       "    </tr>\n",
       "  </tbody>\n",
       "</table>\n",
       "</div>"
      ],
      "text/plain": [
       "   ExpertiseId Element Location     Damage  \\\n",
       "0         4565  pojazd     zew.  poglądowe   \n",
       "1         4575  pojazd     zew.  poglądowe   \n",
       "2         4561  pojazd     zew.  poglądowe   \n",
       "3         4554  pojazd     zew.  poglądowe   \n",
       "4         3359  pojazd     zew.  poglądowe   \n",
       "\n",
       "                                           ImagePath  \n",
       "0  bmtfiles/photos/4565/20240909_101359222_md_ima...  \n",
       "1  bmtfiles/photos/4575/20240909_115602474_md_ima...  \n",
       "2                     bmtfiles/photos/4561/photo.jpg  \n",
       "3                     bmtfiles/photos/4554/photo.jpg  \n",
       "4                     bmtfiles/photos/3359/photo.jpg  "
      ]
     },
     "execution_count": 4,
     "metadata": {},
     "output_type": "execute_result"
    }
   ],
   "source": [
    "data.head()"
   ]
  },
  {
   "cell_type": "markdown",
   "id": "f342b294",
   "metadata": {},
   "source": [
    "### Unique elements of car parts that can be analzed"
   ]
  },
  {
   "cell_type": "code",
   "execution_count": 5,
   "id": "dcc93a53",
   "metadata": {},
   "outputs": [
    {
     "data": {
      "text/plain": [
       "array(['pojazd', 'maska silnika', 'drzwi', 'rura turbo', 'zderzak',\n",
       "       'mata wygłuszenia silnika', 'błotnik', 'Naklejki ozdobne drzwi',\n",
       "       'wnęka drzwi', 'szyba', 'wnętrze', 'lusterko', 'rama dachu',\n",
       "       'nakładka zderzaka', 'uszczelka ramy dachu', 'lampa',\n",
       "       'klapa bagażnika', 'klapka wlewu paliwa', 'nadwozie', 'dach',\n",
       "       'podsufitka', 'listwa błotnika', 'felga', 'tapicerka fotel',\n",
       "       'uchwyt holowniczy', 'próg', 'tapicerka kanapa', 'tapicerka',\n",
       "       'elementy plastikowe', 'podnośnik', 'klamka drzwi', 'zaślepka',\n",
       "       'półka bagażnika', 'zaślepka isofix', 'kratka wlotu powietrza',\n",
       "       'reflektor/lampa', 'absorber', 'nakładka klapy bagażnika', 'opona',\n",
       "       'kołpak', 'tapicerka bagażnik', 'listwa szyby drzwi',\n",
       "       'listwa drzwi', 'dywaniki', 'antena', 'listwa', 'nadkole',\n",
       "       'słupek', 'belka zderzaka', 'osłona silnika',\n",
       "       'uszczelka podszybia', 'atrapa chłodnicy', 'wzmocnienie czołowe',\n",
       "       'uszczelka wnęki drzwi', 'uszczelka szyby drzwi', 'Komora silnika',\n",
       "       'spinki', 'mata wygłuszenia podszybia', 'grill',\n",
       "       'osłona pod zderzakiem', 'pasy bezpieczeństwa',\n",
       "       'ramka tablicy rej.', 'ściana boczna', 'apteczka',\n",
       "       'znaczek firmowy', 'przestrzeń ladunkowa', 'chlapacz',\n",
       "       'drzwi skrzydłowe', 'drzwi przesuwne',\n",
       "       'roleta lub pokrywa bagażnika', 'zaczep półki bagażnika',\n",
       "       'listwa drzwi przesuwnych', 'Nakładka wycieraczki',\n",
       "       'ślizg zderzaka', 'słupek drzwi środkowy', 'narożnik zderzaka',\n",
       "       'kierunkowskaz w lusterku', 'półka bagażnika t',\n",
       "       'listwa ozdobna deski rozdzielczej', 'opony montaż 4szt.',\n",
       "       'spojler zderzaka', 'kierownica powietrza', 'gaśnica',\n",
       "       'koło zapasowe / zestaw naprawczy', 'drzwi skrzydłowe wew.',\n",
       "       'kierownica', 'etui', 'podstawa lusterka', 'pióra wycieraczek',\n",
       "       'trójkąt', 'atrapa halogenu', 'klapka gniazda ładowania EV',\n",
       "       'zaślepka zderzaka', 'klucz do kół',\n",
       "       'kluczyk do felg lub kołpaków', 'kołpaki oryginalne 4 szt',\n",
       "       'korek zbiornika płynu spryskiwacza',\n",
       "       '2 komplety kluczyków / kart'], dtype=object)"
      ]
     },
     "execution_count": 5,
     "metadata": {},
     "output_type": "execute_result"
    }
   ],
   "source": [
    "data[\"Element\"].unique()"
   ]
  },
  {
   "cell_type": "code",
   "execution_count": 6,
   "id": "39107692",
   "metadata": {},
   "outputs": [
    {
     "name": "stdout",
     "output_type": "stream",
     "text": [
      "Element\n",
      "pojazd                                11810\n",
      "nadwozie                               8982\n",
      "zderzak                                4133\n",
      "szyba                                  3625\n",
      "tapicerka                              3549\n",
      "drzwi                                  2737\n",
      "dach                                   2251\n",
      "lusterko                               1802\n",
      "maska silnika                          1677\n",
      "błotnik                                1660\n",
      "wnętrze                                 960\n",
      "wnęka drzwi                             953\n",
      "klapa bagażnika                         900\n",
      "elementy plastikowe                     805\n",
      "nakładka zderzaka                       768\n",
      "listwa błotnika                         574\n",
      "felga                                   556\n",
      "lampa                                   458\n",
      "drzwi skrzydłowe                        411\n",
      "próg                                    401\n",
      "podsufitka                              400\n",
      "rura turbo                              370\n",
      "listwa drzwi                            343\n",
      "klapka wlewu paliwa                     319\n",
      "rama dachu                              282\n",
      "nakładka klapy bagażnika                159\n",
      "opona                                   157\n",
      "mata wygłuszenia silnika                149\n",
      "antena                                  149\n",
      "tapicerka fotel                         142\n",
      "klamka drzwi                            116\n",
      "drzwi skrzydłowe wew.                   115\n",
      "reflektor/lampa                         107\n",
      "uszczelka szyby drzwi                   103\n",
      "drzwi przesuwne                          99\n",
      "ramka tablicy rej.                       93\n",
      "tapicerka kanapa                         91\n",
      "ściana boczna                            91\n",
      "osłona silnika                           88\n",
      "osłona pod zderzakiem                    81\n",
      "kołpak                                   76\n",
      "dywaniki                                 74\n",
      "nadkole                                  72\n",
      "grill                                    67\n",
      "tapicerka bagażnik                       64\n",
      "belka zderzaka                           61\n",
      "półka bagażnika                          59\n",
      "zaczep półki bagażnika                   57\n",
      "Naklejki ozdobne drzwi                   47\n",
      "narożnik zderzaka                        44\n",
      "słupek drzwi środkowy                    42\n",
      "zaślepka isofix                          42\n",
      "słupek                                   37\n",
      "uszczelka ramy dachu                     36\n",
      "kratka wlotu powietrza                   36\n",
      "absorber                                 35\n",
      "przestrzeń ladunkowa                     31\n",
      "roleta lub pokrywa bagażnika             31\n",
      "uszczelka podszybia                      30\n",
      "uszczelka wnęki drzwi                    26\n",
      "kierunkowskaz w lusterku                 24\n",
      "pasy bezpieczeństwa                      22\n",
      "apteczka                                 21\n",
      "znaczek firmowy                          21\n",
      "opony montaż 4szt.                       19\n",
      "spinki                                   19\n",
      "listwa szyby drzwi                       18\n",
      "gaśnica                                  16\n",
      "zaślepka                                 15\n",
      "atrapa chłodnicy                         15\n",
      "listwa drzwi przesuwnych                 13\n",
      "koło zapasowe / zestaw naprawczy         12\n",
      "półka bagażnika t                        12\n",
      "trójkąt                                  10\n",
      "wzmocnienie czołowe                      10\n",
      "podnośnik                                 9\n",
      "atrapa halogenu                           8\n",
      "listwa                                    8\n",
      "mata wygłuszenia podszybia                7\n",
      "etui                                      7\n",
      "ślizg zderzaka                            6\n",
      "pióra wycieraczek                         5\n",
      "listwa ozdobna deski rozdzielczej         4\n",
      "kołpaki oryginalne 4 szt                  4\n",
      "Komora silnika                            4\n",
      "2 komplety kluczyków / kart               3\n",
      "zaślepka zderzaka                         3\n",
      "klapka gniazda ładowania EV               2\n",
      "korek zbiornika płynu spryskiwacza        2\n",
      "kluczyk do felg lub kołpaków              2\n",
      "klucz do kół                              2\n",
      "spojler zderzaka                          2\n",
      "podstawa lusterka                         2\n",
      "kierownica                                2\n",
      "uchwyt holowniczy                         2\n",
      "kierownica powietrza                      1\n",
      "chlapacz                                  1\n",
      "Nakładka wycieraczki                      1\n",
      "Name: count, dtype: int64\n"
     ]
    }
   ],
   "source": [
    "with pd.option_context('display.max_rows', None):\n",
    "    print(data[\"Element\"].value_counts())"
   ]
  },
  {
   "cell_type": "code",
   "execution_count": 7,
   "id": "0cc615da",
   "metadata": {},
   "outputs": [],
   "source": [
    "ELEMENT = \"zderzak\""
   ]
  },
  {
   "cell_type": "code",
   "execution_count": 8,
   "id": "7cc9612a",
   "metadata": {},
   "outputs": [],
   "source": [
    "filtered = data[data[\"Element\"] == ELEMENT]"
   ]
  },
  {
   "cell_type": "code",
   "execution_count": 9,
   "id": "e72c09fb",
   "metadata": {},
   "outputs": [
    {
     "data": {
      "text/html": [
       "<div>\n",
       "<style scoped>\n",
       "    .dataframe tbody tr th:only-of-type {\n",
       "        vertical-align: middle;\n",
       "    }\n",
       "\n",
       "    .dataframe tbody tr th {\n",
       "        vertical-align: top;\n",
       "    }\n",
       "\n",
       "    .dataframe thead th {\n",
       "        text-align: right;\n",
       "    }\n",
       "</style>\n",
       "<table border=\"1\" class=\"dataframe\">\n",
       "  <thead>\n",
       "    <tr style=\"text-align: right;\">\n",
       "      <th></th>\n",
       "      <th>ExpertiseId</th>\n",
       "      <th>Element</th>\n",
       "      <th>Location</th>\n",
       "      <th>Damage</th>\n",
       "      <th>ImagePath</th>\n",
       "    </tr>\n",
       "  </thead>\n",
       "  <tbody>\n",
       "    <tr>\n",
       "      <th>94</th>\n",
       "      <td>2165</td>\n",
       "      <td>zderzak</td>\n",
       "      <td>przód</td>\n",
       "      <td>uszkodzenie</td>\n",
       "      <td>bmtfiles/photos/2165/photo_(11).jpg</td>\n",
       "    </tr>\n",
       "    <tr>\n",
       "      <th>95</th>\n",
       "      <td>2165</td>\n",
       "      <td>zderzak</td>\n",
       "      <td>przód</td>\n",
       "      <td>uszkodzenie</td>\n",
       "      <td>bmtfiles/photos/2165/photo_(12).jpg</td>\n",
       "    </tr>\n",
       "    <tr>\n",
       "      <th>104</th>\n",
       "      <td>2165</td>\n",
       "      <td>zderzak</td>\n",
       "      <td>przód</td>\n",
       "      <td>uszkodzenie</td>\n",
       "      <td>bmtfiles/photos/2165/photo_(13).jpg</td>\n",
       "    </tr>\n",
       "    <tr>\n",
       "      <th>105</th>\n",
       "      <td>2165</td>\n",
       "      <td>zderzak</td>\n",
       "      <td>przód</td>\n",
       "      <td>uszkodzenie</td>\n",
       "      <td>bmtfiles/photos/2165/photo_(14).jpg</td>\n",
       "    </tr>\n",
       "    <tr>\n",
       "      <th>113</th>\n",
       "      <td>2165</td>\n",
       "      <td>zderzak</td>\n",
       "      <td>przód</td>\n",
       "      <td>rysa z uszkodz. lakieru</td>\n",
       "      <td>bmtfiles/photos/2165/photo_(15).jpg</td>\n",
       "    </tr>\n",
       "  </tbody>\n",
       "</table>\n",
       "</div>"
      ],
      "text/plain": [
       "     ExpertiseId  Element Location                   Damage  \\\n",
       "94          2165  zderzak    przód              uszkodzenie   \n",
       "95          2165  zderzak    przód              uszkodzenie   \n",
       "104         2165  zderzak    przód              uszkodzenie   \n",
       "105         2165  zderzak    przód              uszkodzenie   \n",
       "113         2165  zderzak    przód  rysa z uszkodz. lakieru   \n",
       "\n",
       "                               ImagePath  \n",
       "94   bmtfiles/photos/2165/photo_(11).jpg  \n",
       "95   bmtfiles/photos/2165/photo_(12).jpg  \n",
       "104  bmtfiles/photos/2165/photo_(13).jpg  \n",
       "105  bmtfiles/photos/2165/photo_(14).jpg  \n",
       "113  bmtfiles/photos/2165/photo_(15).jpg  "
      ]
     },
     "execution_count": 9,
     "metadata": {},
     "output_type": "execute_result"
    }
   ],
   "source": [
    "filtered.head()"
   ]
  },
  {
   "cell_type": "markdown",
   "id": "d161f53c",
   "metadata": {},
   "source": [
    "### Types of damage"
   ]
  },
  {
   "cell_type": "code",
   "execution_count": 10,
   "id": "187df53c",
   "metadata": {},
   "outputs": [
    {
     "data": {
      "text/plain": [
       "Damage\n",
       "rysa z uszkodz. lakieru      2755\n",
       "ubytek lakieru                445\n",
       "uszkodzenie                   393\n",
       "rysy                          199\n",
       "deformacja+ubytki lakieru      92\n",
       "inne                           61\n",
       "odprysk                        58\n",
       "rysy + odpryski                54\n",
       "zła jakość naprawy             20\n",
       "wżery na lakierze              14\n",
       "rysa do polerowania            14\n",
       "odkształcony                   10\n",
       "złuszczony lakier               7\n",
       "źle spasowany                   4\n",
       "odpryski - rant                 4\n",
       "wada lakiernicza                3\n",
       "Name: count, dtype: int64"
      ]
     },
     "execution_count": 10,
     "metadata": {},
     "output_type": "execute_result"
    }
   ],
   "source": [
    "filtered[\"Damage\"].value_counts()"
   ]
  },
  {
   "cell_type": "markdown",
   "id": "d7a1c2a5",
   "metadata": {},
   "source": [
    "### Get damage class"
   ]
  },
  {
   "cell_type": "code",
   "execution_count": 11,
   "id": "42232470",
   "metadata": {},
   "outputs": [],
   "source": [
    "DAMAGE = \"multiclass\""
   ]
  },
  {
   "cell_type": "code",
   "execution_count": 12,
   "id": "5143ddef",
   "metadata": {},
   "outputs": [],
   "source": [
    "dmg_class = filtered[(filtered[\"Damage\"] == \"rysa z uszkodz. lakieru\") | (filtered[\"Damage\"] == \"ubytek lakieru\")]"
   ]
  },
  {
   "cell_type": "code",
   "execution_count": 13,
   "id": "beb012fe",
   "metadata": {},
   "outputs": [
    {
     "data": {
      "text/plain": [
       "(3200, 5)"
      ]
     },
     "execution_count": 13,
     "metadata": {},
     "output_type": "execute_result"
    }
   ],
   "source": [
    "dmg_class.shape"
   ]
  },
  {
   "cell_type": "code",
   "execution_count": 14,
   "id": "b30bdc3a",
   "metadata": {},
   "outputs": [],
   "source": [
    "import os\n",
    "\n",
    "os.makedirs(\"work_dataset\", exist_ok=True)\n",
    "\n",
    "dmg_class_file = f\"work_dataset/{ELEMENT}_{DAMAGE}.csv\"\n",
    "\n",
    "dmg_class.to_csv(dmg_class_file)"
   ]
  },
  {
   "cell_type": "markdown",
   "id": "30a7969b",
   "metadata": {},
   "source": [
    "### Read csv, extract filepaths and save photos to work_dataset"
   ]
  },
  {
   "cell_type": "code",
   "execution_count": 15,
   "id": "69a7c376",
   "metadata": {},
   "outputs": [],
   "source": [
    "work_csv = pd.read_csv(dmg_class_file)"
   ]
  },
  {
   "cell_type": "code",
   "execution_count": 16,
   "id": "4d4815e5",
   "metadata": {},
   "outputs": [],
   "source": [
    "filepaths = work_csv[\"ImagePath\"]"
   ]
  },
  {
   "cell_type": "code",
   "execution_count": 17,
   "id": "6a49cf0a",
   "metadata": {},
   "outputs": [
    {
     "name": "stdout",
     "output_type": "stream",
     "text": [
      "[Errno 2] No such file or directory: 'bmtfiles/photos/10982/photo_(13).jpg'\n",
      "[Errno 2] No such file or directory: 'bmtfiles/photos/10982/photo_(15).jpg'\n",
      "[Errno 2] No such file or directory: 'bmtfiles/photos/10982/photo_(14).jpg'\n",
      "[Errno 2] No such file or directory: 'bmtfiles/photos/12700/2025-06-10_13-37-50_(1).jpg'\n",
      "[Errno 2] No such file or directory: 'bmtfiles/photos/12700/2025-06-10_13-37-51.jpg'\n",
      "[Errno 2] No such file or directory: 'bmtfiles/photos/12700/2025-06-10_13-37-51_(1).jpg'\n",
      "[Errno 2] No such file or directory: 'bmtfiles/photos/12700/2025-06-10_13-37-52.jpg'\n",
      "[Errno 2] No such file or directory: 'bmtfiles/photos/12700/2025-06-10_13-37-53.jpg'\n",
      "[Errno 2] No such file or directory: 'bmtfiles/photos/12700/2025-06-10_13-37-53_(1).jpg'\n",
      "[Errno 2] No such file or directory: 'bmtfiles/photos/10991/2025-06-11_07-01-29.jpg'\n",
      "[Errno 2] No such file or directory: 'bmtfiles/photos/10991/2025-06-11_07-01-31.jpg'\n",
      "[Errno 2] No such file or directory: 'bmtfiles/photos/10991/2025-06-11_07-01-33.jpg'\n",
      "[Errno 2] No such file or directory: 'bmtfiles/photos/10991/2025-06-11_07-01-35.jpg'\n",
      "[Errno 2] No such file or directory: 'bmtfiles/photos/10991/2025-06-11_07-01-36.jpg'\n",
      "[Errno 2] No such file or directory: 'bmtfiles/photos/12728/2025-06-11_12-54-30.jpg'\n",
      "[Errno 2] No such file or directory: 'bmtfiles/photos/12728/2025-06-11_12-54-31.jpg'\n"
     ]
    }
   ],
   "source": [
    "import shutil\n",
    "from pathlib import Path\n",
    "\n",
    "with pd.option_context('display.max_rows', None):\n",
    "    workdir = Path(f\"work_dataset/{ELEMENT}/{DAMAGE}/photos\")\n",
    "    workdir.mkdir(parents=True, exist_ok=True)\n",
    "\n",
    "    for f in filepaths.values:\n",
    "        src = Path(f)\n",
    "\n",
    "        src_fldr = src.parts[-2]\n",
    "        dest = workdir.joinpath(f\"{src_fldr}_{src.name}\")\n",
    "\n",
    "        try: \n",
    "            shutil.copy(src, dest)\n",
    "        except Exception as e:\n",
    "            print(e)\n",
    "            continue"
   ]
  },
  {
   "cell_type": "code",
   "execution_count": 18,
   "id": "a69db818",
   "metadata": {},
   "outputs": [
    {
     "name": "stdout",
     "output_type": "stream",
     "text": [
      "number of files in classes:  3200\n",
      "number of files copied:  3177\n",
      "Difference:  23\n"
     ]
    }
   ],
   "source": [
    "# Difference between thoretically available files and physically copied ones:\n",
    "loc = len(dmg_class)\n",
    "lwd = len([n for n in os.listdir(workdir)])\n",
    "\n",
    "print(\"number of files in classes: \", loc)\n",
    "print(\"number of files copied: \", lwd)\n",
    "print(\"Difference: \", loc - lwd)"
   ]
  },
  {
   "cell_type": "markdown",
   "id": "cf95cce2",
   "metadata": {},
   "source": [
    "### Check files"
   ]
  },
  {
   "cell_type": "markdown",
   "id": "872d024f",
   "metadata": {},
   "source": [
    "#### Delete no jpgs files"
   ]
  },
  {
   "cell_type": "code",
   "execution_count": 19,
   "id": "9c46ce2b",
   "metadata": {},
   "outputs": [
    {
     "name": "stdout",
     "output_type": "stream",
     "text": [
      "work_dataset/zderzak/multiclass/photos/1721_image_(23).\n",
      "work_dataset/zderzak/multiclass/photos/1721_image_(29).\n",
      "work_dataset/zderzak/multiclass/photos/2136_image_(15).\n",
      "work_dataset/zderzak/multiclass/photos/1721_image_(33).\n",
      "work_dataset/zderzak/multiclass/photos/4442_20240914_121716779_md_image.\n",
      "work_dataset/zderzak/multiclass/photos/2136_image_(34).\n",
      "work_dataset/zderzak/multiclass/photos/10550_2024-10-24_13-57-31_(2).jpg\n",
      "work_dataset/zderzak/multiclass/photos/1721_image_(24).\n",
      "work_dataset/zderzak/multiclass/photos/1927_20240914_093842675_md_image.\n",
      "work_dataset/zderzak/multiclass/photos/2136_image_(33).\n",
      "work_dataset/zderzak/multiclass/photos/4442_20240914_121715537_md_image.\n",
      "work_dataset/zderzak/multiclass/photos/2136_image_(16).\n",
      "work_dataset/zderzak/multiclass/photos/1721_image_(30).\n",
      "work_dataset/zderzak/multiclass/photos/4442_20240914_121714978_md_image.\n",
      "work_dataset/zderzak/multiclass/photos/4442_20240914_121716204_md_image.\n",
      "work_dataset/zderzak/multiclass/photos/4442_20240914_121717403_md_image.\n",
      "work_dataset/zderzak/multiclass/photos/1721_image_(25).\n",
      "work_dataset/zderzak/multiclass/photos/1911_20240914_072600430_md_image.\n",
      "work_dataset/zderzak/multiclass/photos/1911_20240914_072559237_md_image.\n",
      "work_dataset/zderzak/multiclass/photos/1721_image_(31).\n",
      "work_dataset/zderzak/multiclass/photos/2136_image_(17).\n",
      "work_dataset/zderzak/multiclass/photos/1927_20240914_093842128_md_image.\n",
      "work_dataset/zderzak/multiclass/photos/4442_20240914_121714446_md_image.\n",
      "work_dataset/zderzak/multiclass/photos/1721_image_(26).\n",
      "work_dataset/zderzak/multiclass/photos/1911_20240914_072559816_md_image.\n",
      "work_dataset/zderzak/multiclass/photos/1721_image_(22).\n",
      "work_dataset/zderzak/multiclass/photos/4442_20240914_121717947_md_image.\n",
      "work_dataset/zderzak/multiclass/photos/1721_image_(32).\n",
      "work_dataset/zderzak/multiclass/photos/2136_image_(14).\n",
      "work_dataset/zderzak/multiclass/photos/9476_2025-01-03_10-52-07.png\n",
      "work_dataset/zderzak/multiclass/photos/1927_20240914_093841504_md_image.\n",
      "work_dataset/zderzak/multiclass/photos/2136_image_(35).\n",
      "work_dataset/zderzak/multiclass/photos/12118_image_(11).\n",
      "No JFIF file:  33\n"
     ]
    }
   ],
   "source": [
    "num_skipped = 0\n",
    "\n",
    "for path in workdir.rglob(\"*\"):\n",
    "    with open(path, \"rb\") as file:\n",
    "        is_jfif = b\"JFIF\" in file.peek(10)\n",
    "    if not is_jfif:\n",
    "        num_skipped += 1\n",
    "        print(path)\n",
    "        os.remove(path)\n",
    "\n",
    "\n",
    "\n",
    "print(\"No JFIF file: \", num_skipped)\n"
   ]
  },
  {
   "cell_type": "markdown",
   "id": "2e7a597a",
   "metadata": {},
   "source": [
    "#### Are all files proper jpgs?\n"
   ]
  },
  {
   "cell_type": "code",
   "execution_count": 20,
   "id": "e3a6e20d",
   "metadata": {},
   "outputs": [
    {
     "name": "stdout",
     "output_type": "stream",
     "text": [
      "Number of *.jpg:  3101\n",
      "Number of not *.jpg:  43\n",
      "Difference between workidr and counted jpgs:  76\n"
     ]
    }
   ],
   "source": [
    "import fnmatch\n",
    "\n",
    "jpgs = [path for path in workdir.rglob(\"*.jp*g\", case_sensitive=False)]\n",
    "\n",
    "not_jpgs_files = [f for f in workdir.rglob(\"*\") if not fnmatch.fnmatch(f.name, '*.jp*g')]\n",
    "\n",
    "num_jpgs = len(jpgs)\n",
    "\n",
    "print(\"Number of *.jpg: \", num_jpgs)\n",
    "print(\"Number of not *.jpg: \", len(not_jpgs_files))\n",
    "print(\"Difference between workidr and counted jpgs: \", lwd - num_jpgs)"
   ]
  },
  {
   "cell_type": "code",
   "execution_count": 21,
   "id": "b1dd2354",
   "metadata": {},
   "outputs": [
    {
     "name": "stdout",
     "output_type": "stream",
     "text": [
      "work_dataset/zderzak/multiclass/photos/2193_20240911_132721919_md_image.\n",
      "work_dataset/zderzak/multiclass/photos/4504_20240913_151632128_md_image.\n",
      "work_dataset/zderzak/multiclass/photos/4430_20240912_095313198_md_image.\n",
      "work_dataset/zderzak/multiclass/photos/4504_20240913_151638855_md_image.\n",
      "work_dataset/zderzak/multiclass/photos/2193_20240911_132654162_md_image.\n",
      "work_dataset/zderzak/multiclass/photos/1803_20240912_160225373_md_image.\n",
      "work_dataset/zderzak/multiclass/photos/2193_20240911_132724134_md_image.\n",
      "work_dataset/zderzak/multiclass/photos/4443_20240913_091010820_md_image.\n",
      "work_dataset/zderzak/multiclass/photos/4439_20240913_131759739_md_image.\n",
      "work_dataset/zderzak/multiclass/photos/1803_20240912_160223036_md_image.\n",
      "work_dataset/zderzak/multiclass/photos/4504_20240913_151636924_md_image.\n",
      "work_dataset/zderzak/multiclass/photos/4443_20240913_090959618_md_image.\n",
      "work_dataset/zderzak/multiclass/photos/4439_20240913_131811266_md_image.\n",
      "work_dataset/zderzak/multiclass/photos/1803_20240912_160213713_md_image.\n",
      "work_dataset/zderzak/multiclass/photos/4443_20240913_090957304_md_image.\n",
      "work_dataset/zderzak/multiclass/photos/4443_20240913_091001918_md_image.\n",
      "work_dataset/zderzak/multiclass/photos/1803_20240912_160209086_md_image.\n",
      "work_dataset/zderzak/multiclass/photos/4443_20240913_091012885_md_image.\n",
      "work_dataset/zderzak/multiclass/photos/4439_20240913_131805483_md_image.\n",
      "work_dataset/zderzak/multiclass/photos/4504_20240913_151634064_md_image.\n",
      "work_dataset/zderzak/multiclass/photos/1803_20240912_160227520_md_image.\n",
      "work_dataset/zderzak/multiclass/photos/1803_20240912_160218113_md_image.\n",
      "work_dataset/zderzak/multiclass/photos/1803_20240912_160211576_md_image.\n",
      "work_dataset/zderzak/multiclass/photos/4443_20240913_091008675_md_image.\n",
      "work_dataset/zderzak/multiclass/photos/4430_20240912_095316545_md_image.\n",
      "work_dataset/zderzak/multiclass/photos/2193_20240911_132717822_md_image.\n",
      "work_dataset/zderzak/multiclass/photos/2193_20240911_132659495_md_image.\n",
      "work_dataset/zderzak/multiclass/photos/4508_20240912_110448750_md_image.\n",
      "work_dataset/zderzak/multiclass/photos/4508_20240912_110446525_md_image.\n",
      "work_dataset/zderzak/multiclass/photos/1803_20240912_160220559_md_image.\n",
      "work_dataset/zderzak/multiclass/photos/4443_20240913_090954164_md_image.\n",
      "work_dataset/zderzak/multiclass/photos/1803_20240912_160215663_md_image.\n",
      "work_dataset/zderzak/multiclass/photos/4504_20240913_151640891_md_image.\n",
      "work_dataset/zderzak/multiclass/photos/2193_20240911_132652246_md_image.\n",
      "work_dataset/zderzak/multiclass/photos/2193_20240911_132719846_md_image.\n",
      "work_dataset/zderzak/multiclass/photos/4439_20240913_131747475_md_image.\n",
      "work_dataset/zderzak/multiclass/photos/2193_20240911_132715774_md_image.\n",
      "work_dataset/zderzak/multiclass/photos/4443_20240913_091006654_md_image.\n",
      "work_dataset/zderzak/multiclass/photos/4439_20240913_131754027_md_image.\n",
      "work_dataset/zderzak/multiclass/photos/4443_20240913_091004279_md_image.\n",
      "work_dataset/zderzak/multiclass/photos/4430_20240912_095314816_md_image.\n",
      "work_dataset/zderzak/multiclass/photos/4430_20240912_095318606_md_image.\n",
      "work_dataset/zderzak/multiclass/photos/2193_20240911_132656735_md_image.\n"
     ]
    }
   ],
   "source": [
    "# Add proper suffixes\n",
    "\n",
    "for f in not_jpgs_files:\n",
    "    print(f)\n",
    "    os.rename(f, f.with_suffix(\".jpg\"))"
   ]
  },
  {
   "cell_type": "code",
   "execution_count": 22,
   "id": "3531df96",
   "metadata": {},
   "outputs": [
    {
     "name": "stdout",
     "output_type": "stream",
     "text": [
      "Number of *.jpg:  3144\n",
      "Number of not *.jpg:  0\n"
     ]
    }
   ],
   "source": [
    "jpgs = [path for path in workdir.rglob(\"*.jp*g\", case_sensitive=False)]\n",
    "not_jpgs_files = [f for f in workdir.rglob(\"*\") if not fnmatch.fnmatch(f.name, '*.jp*g')]\n",
    "\n",
    "print(\"Number of *.jpg: \", len(jpgs))\n",
    "print(\"Number of not *.jpg: \", len(not_jpgs_files))"
   ]
  },
  {
   "cell_type": "code",
   "execution_count": 23,
   "id": "11cfd9f0",
   "metadata": {},
   "outputs": [],
   "source": [
    "import PIL.Image\n",
    "from fractions import Fraction\n",
    "from collections import Counter\n",
    "\n",
    "sizes_dict = Counter()\n",
    "ratio_dict = Counter()\n",
    "\n",
    "for j in jpgs:\n",
    "    img = PIL.Image.open(j)\n",
    "    w, h = img.size\n",
    "    img_size = (w,h)\n",
    "    sizes_dict[img_size] += 1\n",
    "    ratio = Fraction(w, h).as_integer_ratio()\n",
    "    ratio_dict[ratio] += 1 "
   ]
  },
  {
   "cell_type": "code",
   "execution_count": 24,
   "id": "fa70d207",
   "metadata": {},
   "outputs": [
    {
     "name": "stdout",
     "output_type": "stream",
     "text": [
      "(2560, 1440): 2859\n",
      "(2400, 1350): 116\n",
      "(1920, 1080): 63\n",
      "(3840, 2160): 99\n",
      "(1080, 1920): 3\n",
      "(4000, 3000): 1\n",
      "(4080, 3060): 1\n",
      "(8192, 3686): 2\n"
     ]
    }
   ],
   "source": [
    "for k, v in sizes_dict.items():\n",
    "    print(f\"{k}: {v}\")"
   ]
  },
  {
   "cell_type": "code",
   "execution_count": 25,
   "id": "f1ad70c1",
   "metadata": {},
   "outputs": [
    {
     "name": "stdout",
     "output_type": "stream",
     "text": [
      "(16, 9): 3137\n",
      "(9, 16): 3\n",
      "(4, 3): 2\n",
      "(4096, 1843): 2\n"
     ]
    }
   ],
   "source": [
    "for k, v in ratio_dict.items():\n",
    "    print(f\"{k}: {v}\")"
   ]
  },
  {
   "cell_type": "code",
   "execution_count": 26,
   "id": "21b045b8",
   "metadata": {},
   "outputs": [
    {
     "data": {
      "image/png": "[encoded data removed]",
      "text/plain": [
       "<Figure size 1200x600 with 1 Axes>"
      ]
     },
     "metadata": {},
     "output_type": "display_data"
    }
   ],
   "source": [
    "import matplotlib.pyplot as plt\n",
    "\n",
    "x, y = zip(*[(str(k), v) for k, v in sizes_dict.items()])\n",
    "plt.figure(figsize=(12, 6))  # Increase figure size if needed\n",
    "plt.bar(x, y)\n",
    "plt.xticks(rotation=45, ha='right')  # Rotate labels and align right\n",
    "plt.tight_layout()  # Adjust layout to prevent clipping\n",
    "plt.show()"
   ]
  },
  {
   "cell_type": "code",
   "execution_count": null,
   "id": "9b0e595b",
   "metadata": {},
   "outputs": [],
   "source": []
  }
 ],
 "metadata": {
  "kernelspec": {
   "display_name": ".venv",
   "language": "python",
   "name": "python3"
  },
  "language_info": {
   "codemirror_mode": {
    "name": "ipython",
    "version": 3
   },
   "file_extension": ".py",
   "mimetype": "text/x-python",
   "name": "python",
   "nbconvert_exporter": "python",
   "pygments_lexer": "ipython3",
   "version": "3.12.10"
  }
 },
 "nbformat": 4,
 "nbformat_minor": 5
}
