{
 "cells": [
  {
   "cell_type": "code",
   "execution_count": null,
   "id": "c02bcf53",
   "metadata": {},
   "outputs": [],
   "source": [
    "import fnmatch\n",
    "import os\n",
    "import shutil\n",
    "from collections import Counter\n",
    "from fractions import Fraction\n",
    "from pathlib import Path\n",
    "\n",
    "import matplotlib.pyplot as plt\n",
    "import pandas as pd\n",
    "from pandas import DataFrame\n",
    "from PIL import Image"
   ]
  },
  {
   "cell_type": "code",
   "execution_count": null,
   "id": "5697dc8f",
   "metadata": {},
   "outputs": [],
   "source": [
    "BASE_WORKDIR = Path(\"work_dataset\")"
   ]
  },
  {
   "cell_type": "code",
   "execution_count": null,
   "id": "bc944e19",
   "metadata": {},
   "outputs": [],
   "source": [
    "pd.set_option(\"display.max_rows\", 20)"
   ]
  },
  {
   "cell_type": "markdown",
   "id": "3c1ddd9a",
   "metadata": {},
   "source": [
    "### Read the file"
   ]
  },
  {
   "cell_type": "code",
   "execution_count": null,
   "id": "77cef5b6",
   "metadata": {},
   "outputs": [],
   "source": [
    "data = pd.read_excel(\"bmtfiles/Zestawienie ekspertyz 8.xlsx\")"
   ]
  },
  {
   "cell_type": "code",
   "execution_count": null,
   "id": "f26a5c38",
   "metadata": {},
   "outputs": [],
   "source": [
    "data.head()"
   ]
  },
  {
   "cell_type": "code",
   "execution_count": null,
   "id": "f9e48d90",
   "metadata": {},
   "outputs": [],
   "source": [
    "data = data[[\"ExpertiseId\", \"Element\", \"Damage\", \"ImagePath\"]]"
   ]
  },
  {
   "cell_type": "code",
   "execution_count": null,
   "id": "21d559e3",
   "metadata": {},
   "outputs": [],
   "source": [
    "data.head()"
   ]
  },
  {
   "cell_type": "markdown",
   "id": "f342b294",
   "metadata": {},
   "source": [
    "### Unique elements of car parts that can be analzed"
   ]
  },
  {
   "cell_type": "code",
   "execution_count": null,
   "id": "dcc93a53",
   "metadata": {},
   "outputs": [],
   "source": [
    "data[\"Element\"].unique()"
   ]
  },
  {
   "cell_type": "code",
   "execution_count": null,
   "id": "39107692",
   "metadata": {},
   "outputs": [],
   "source": [
    "data[\"Element\"].value_counts()"
   ]
  },
  {
   "cell_type": "code",
   "execution_count": null,
   "id": "0cc615da",
   "metadata": {},
   "outputs": [],
   "source": [
    "ELEMENT = [\"zderzak\", \"maska silnika\"]"
   ]
  },
  {
   "cell_type": "code",
   "execution_count": null,
   "id": "7cc9612a",
   "metadata": {},
   "outputs": [],
   "source": [
    "filtered = data[data[\"Element\"].isin(ELEMENT)]"
   ]
  },
  {
   "cell_type": "code",
   "execution_count": null,
   "id": "e72c09fb",
   "metadata": {},
   "outputs": [],
   "source": [
    "filtered.head()"
   ]
  },
  {
   "cell_type": "code",
   "execution_count": null,
   "id": "bb9ba14e",
   "metadata": {},
   "outputs": [],
   "source": [
    "filter_col = \"Damage\"\n",
    "image_col = \"ImagePath\""
   ]
  },
  {
   "cell_type": "markdown",
   "id": "d161f53c",
   "metadata": {},
   "source": [
    "### Types of damage"
   ]
  },
  {
   "cell_type": "code",
   "execution_count": null,
   "id": "187df53c",
   "metadata": {},
   "outputs": [],
   "source": [
    "filtered[[\"Element\", \"Damage\"]].value_counts()"
   ]
  },
  {
   "cell_type": "markdown",
   "id": "d7a1c2a5",
   "metadata": {},
   "source": [
    "### Get damage class"
   ]
  },
  {
   "cell_type": "code",
   "execution_count": null,
   "id": "b2a8e11d",
   "metadata": {},
   "outputs": [],
   "source": [
    "def get_damage_class(df: DataFrame, col: str, damages: list[str]):\n",
    "    return filtered[filtered[\"Damage\"].isin(damages)]"
   ]
  },
  {
   "cell_type": "code",
   "execution_count": null,
   "id": "e550f927",
   "metadata": {},
   "outputs": [],
   "source": [
    "DAMAGES = [\"ubytek lakieru\", \"uszkodzenie\", \"wżery na lakierze\", \"wgniecenie 1-2\"]"
   ]
  },
  {
   "cell_type": "code",
   "execution_count": null,
   "id": "84d2348e",
   "metadata": {},
   "outputs": [],
   "source": [
    "df = get_damage_class(filtered, filter_col, DAMAGES)"
   ]
  },
  {
   "cell_type": "code",
   "execution_count": null,
   "id": "d16ba08d",
   "metadata": {},
   "outputs": [],
   "source": [
    "df.head()"
   ]
  },
  {
   "cell_type": "code",
   "execution_count": null,
   "id": "0d7d76ce",
   "metadata": {},
   "outputs": [],
   "source": [
    "df.shape"
   ]
  },
  {
   "cell_type": "markdown",
   "id": "10754ae7",
   "metadata": {},
   "source": [
    "#### Save dmg info to csv"
   ]
  },
  {
   "cell_type": "code",
   "execution_count": null,
   "id": "82943fc4",
   "metadata": {},
   "outputs": [],
   "source": [
    "# 255 is for max filename length in Windows, Mac, Linux\n",
    "\n",
    "csv_name =  \"_\".join([d for d in ELEMENT]) + \"-\" + \"_\".join([d for d in DAMAGES])[:255] + \".csv\""
   ]
  },
  {
   "cell_type": "code",
   "execution_count": null,
   "id": "7d3a327e",
   "metadata": {},
   "outputs": [],
   "source": [
    "csv_name"
   ]
  },
  {
   "cell_type": "code",
   "execution_count": null,
   "id": "b30bdc3a",
   "metadata": {},
   "outputs": [],
   "source": [
    "def save_dmg_to_csv(df: DataFrame, workdir: Path, csv_name: str):\n",
    "    os.makedirs(workdir, exist_ok=True)\n",
    "    df.to_csv(f\"{workdir}/{csv_name}\")"
   ]
  },
  {
   "cell_type": "code",
   "execution_count": null,
   "id": "a097044c",
   "metadata": {},
   "outputs": [],
   "source": [
    "save_dmg_to_csv(df, BASE_WORKDIR, csv_name)"
   ]
  },
  {
   "cell_type": "markdown",
   "id": "30a7969b",
   "metadata": {},
   "source": [
    "### Read csv, extract filepaths and save photos to work_dataset"
   ]
  },
  {
   "cell_type": "code",
   "execution_count": null,
   "id": "42e9823e",
   "metadata": {},
   "outputs": [],
   "source": [
    "def prepare_dataset_folders(workdir: Path, csv_name: str, img_col: str, filter_col: str):\n",
    "    csv_path = workdir.joinpath(csv_name)\n",
    "    work_csv = pd.read_csv(csv_path)\n",
    "    filepaths = work_csv[img_col]\n",
    "\n",
    "    for folder in work_csv[filter_col].unique():\n",
    "\n",
    "        dmg_folder = workdir.joinpath(folder)\n",
    "        dmg_folder.mkdir(parents=True, exist_ok=True)\n",
    "\n",
    "        src_df = work_csv[work_csv[filter_col] == folder]\n",
    "\n",
    "        for f in src_df[img_col].values:\n",
    "            src = Path(f)\n",
    "\n",
    "            src_fldr = src.parts[-2]\n",
    "            dest = dmg_folder.joinpath(f\"{src_fldr}_{src.name}\")\n",
    "\n",
    "            try: \n",
    "                # print(dest)\n",
    "                shutil.copy(src, dest)\n",
    "            except Exception as e:\n",
    "                print(e)\n",
    "                continue"
   ]
  },
  {
   "cell_type": "code",
   "execution_count": null,
   "id": "32ab9499",
   "metadata": {},
   "outputs": [],
   "source": [
    "prepare_dataset_folders(BASE_WORKDIR, csv_name, image_col, filter_col)"
   ]
  },
  {
   "cell_type": "code",
   "execution_count": null,
   "id": "8e81124e",
   "metadata": {},
   "outputs": [],
   "source": [
    "dmg_paths = [BASE_WORKDIR.joinpath(dmg) for dmg in DAMAGES]"
   ]
  },
  {
   "cell_type": "markdown",
   "id": "41fa4b3d",
   "metadata": {},
   "source": [
    "#### Difference between thoretically available files and physically copied ones:"
   ]
  },
  {
   "cell_type": "code",
   "execution_count": null,
   "id": "3531df96",
   "metadata": {},
   "outputs": [],
   "source": [
    "def count_types_and_other(workdir: Path, pattern: str):\n",
    "    bad_files_list = []\n",
    "\n",
    "    match = [path for path in workdir.rglob(pattern)]\n",
    "    not_match = [f for f in workdir.rglob(\"*\") if not fnmatch.fnmatch(f.name, pattern)]\n",
    "    bad_files_list += not_match\n",
    "    print(f\"{workdir}\")\n",
    "    print(f\"Number of {pattern}: \", len(match))\n",
    "    print(f\"Number of not {pattern}: \", len(not_match))\n",
    "    print()\n",
    "    return bad_files_list"
   ]
  },
  {
   "cell_type": "code",
   "execution_count": null,
   "id": "5b20aa2e",
   "metadata": {},
   "outputs": [],
   "source": [
    "for dmg in dmg_paths:\n",
    "    _ = count_types_and_other(dmg, \"*.jp*g\")"
   ]
  },
  {
   "cell_type": "code",
   "execution_count": null,
   "id": "a69db818",
   "metadata": {},
   "outputs": [],
   "source": [
    "def diff_avail_copied(df: DataFrame, folder: str):\n",
    "    loc = len(df)\n",
    "    lwd = len([n for n in os.listdir(folder)])\n",
    "\n",
    "    # print(df.head(1))\n",
    "    print(f\"number of files in class: \", loc)\n",
    "    print(\"number of files copied: \", lwd)\n",
    "    print(\"Difference: \", loc - lwd)\n",
    "    print()"
   ]
  },
  {
   "cell_type": "code",
   "execution_count": null,
   "id": "8c419a05",
   "metadata": {},
   "outputs": [],
   "source": [
    "for dmg in DAMAGES:\n",
    "    diff_avail_copied(df[df[filter_col] == dmg], BASE_WORKDIR.joinpath(dmg))"
   ]
  },
  {
   "cell_type": "markdown",
   "id": "cf95cce2",
   "metadata": {},
   "source": [
    "### Check files in all work_dataset folders"
   ]
  },
  {
   "cell_type": "markdown",
   "id": "872d024f",
   "metadata": {},
   "source": [
    "#### Delete no jpgs files"
   ]
  },
  {
   "cell_type": "code",
   "execution_count": null,
   "id": "9c46ce2b",
   "metadata": {},
   "outputs": [],
   "source": [
    "def delete_bad_types(workdir: Path, type_header: bytes):\n",
    "    num_skipped = 0\n",
    "\n",
    "    for path in workdir.rglob(\"*\"):\n",
    "        with open(path, \"rb\") as file:\n",
    "            is_type =  type_header in file.peek(10)\n",
    "        if not is_type:\n",
    "            num_skipped += 1\n",
    "            # print(path)\n",
    "            os.remove(path)\n",
    "\n",
    "    print(f\"{workdir} \", num_skipped)"
   ]
  },
  {
   "cell_type": "code",
   "execution_count": null,
   "id": "c9d7f685",
   "metadata": {},
   "outputs": [],
   "source": [
    "for dmg in dmg_paths:\n",
    "    delete_bad_types(dmg, b\"JFIF\")"
   ]
  },
  {
   "cell_type": "markdown",
   "id": "8a0a55dc",
   "metadata": {},
   "source": [
    "#### Count how many we have so far"
   ]
  },
  {
   "cell_type": "code",
   "execution_count": null,
   "id": "2b8bf0cf",
   "metadata": {},
   "outputs": [],
   "source": [
    "not_jpgs = []\n",
    "\n",
    "for dmg in dmg_paths:\n",
    "    nj = count_types_and_other(dmg, \"*.jp*g\")\n",
    "    not_jpgs.extend(nj)"
   ]
  },
  {
   "cell_type": "markdown",
   "id": "a87ad800",
   "metadata": {},
   "source": [
    "#### Add proper suffix"
   ]
  },
  {
   "cell_type": "code",
   "execution_count": null,
   "id": "b1dd2354",
   "metadata": {},
   "outputs": [],
   "source": [
    "def add_suffix(workdirs: list[Path], suffix: str):\n",
    "    for f in workdirs:\n",
    "        os.rename(f, f.with_suffix(suffix))"
   ]
  },
  {
   "cell_type": "code",
   "execution_count": null,
   "id": "727b1c99",
   "metadata": {},
   "outputs": [],
   "source": [
    "add_suffix(not_jpgs, \".jpg\")"
   ]
  },
  {
   "cell_type": "markdown",
   "id": "1261239c",
   "metadata": {},
   "source": [
    "#### Verify using PIL.Image"
   ]
  },
  {
   "cell_type": "code",
   "execution_count": null,
   "id": "37f4a5c9",
   "metadata": {},
   "outputs": [],
   "source": [
    "def verify_images(directory):\n",
    "    for filename in os.listdir(directory):\n",
    "        try:\n",
    "            with Image.open(os.path.join(directory, filename)) as img:\n",
    "                img.verify()\n",
    "        except Exception as e:\n",
    "            print(f\"Error in {filename}: {e}\")"
   ]
  },
  {
   "cell_type": "markdown",
   "id": "12bef991",
   "metadata": {},
   "source": [
    "#### Conver to proper RGB"
   ]
  },
  {
   "cell_type": "code",
   "execution_count": null,
   "id": "fa44ed84",
   "metadata": {},
   "outputs": [],
   "source": [
    "def convert_images(directory):\n",
    "    err_cnt  = 0\n",
    "    modes = set()\n",
    "    for filename in os.listdir(directory):\n",
    "        try:\n",
    "            img = Image.open(os.path.join(directory, filename))\n",
    "            modes.add(img.mode)\n",
    "            if img.mode != \"RGB\":\n",
    "                img = img.convert('RGB') \n",
    "                img.save(os.path.join(directory, filename), format='jpg')\n",
    "        except Exception as e:\n",
    "            err_cnt += 1\n",
    "            print(f\"Cannot convert {filename}: {e}\")\n",
    "    print(directory, modes)"
   ]
  },
  {
   "cell_type": "code",
   "execution_count": null,
   "id": "d6eede46",
   "metadata": {},
   "outputs": [],
   "source": [
    "for dmg in dmg_paths:\n",
    "    verify_images(dmg)"
   ]
  },
  {
   "cell_type": "code",
   "execution_count": null,
   "id": "d1d31801",
   "metadata": {},
   "outputs": [],
   "source": [
    "for dmg in dmg_paths:\n",
    "    convert_images(dmg)"
   ]
  },
  {
   "cell_type": "markdown",
   "id": "15ae9efd",
   "metadata": {},
   "source": [
    "### Visualize img properties: resolution and ration"
   ]
  },
  {
   "cell_type": "code",
   "execution_count": null,
   "id": "11cfd9f0",
   "metadata": {},
   "outputs": [],
   "source": [
    "sizes_dict = Counter()\n",
    "ratio_dict = Counter()\n",
    "\n",
    "for j in BASE_WORKDIR.rglob(\"*.jpg\"):\n",
    "    img = Image.open(j)\n",
    "    w, h = img.size\n",
    "    img_size = (w,h)\n",
    "    sizes_dict[img_size] += 1\n",
    "    ratio = Fraction(w, h).as_integer_ratio()\n",
    "    ratio_dict[ratio] += 1 "
   ]
  },
  {
   "cell_type": "code",
   "execution_count": null,
   "id": "fa70d207",
   "metadata": {},
   "outputs": [],
   "source": [
    "for k, v in sizes_dict.items():\n",
    "    print(f\"{k}: {v}\")"
   ]
  },
  {
   "cell_type": "code",
   "execution_count": null,
   "id": "f1ad70c1",
   "metadata": {},
   "outputs": [],
   "source": [
    "for k, v in ratio_dict.items():\n",
    "    print(f\"{k}: {v}\")"
   ]
  },
  {
   "cell_type": "code",
   "execution_count": null,
   "id": "21b045b8",
   "metadata": {},
   "outputs": [],
   "source": [
    "x, y = zip(*[(str(k), v) for k, v in sizes_dict.items()])\n",
    "plt.figure(figsize=(12, 6))  # Increase figure size if needed\n",
    "plt.bar(x, y)\n",
    "plt.xticks(rotation=45, ha='right')  # Rotate labels and align right\n",
    "plt.tight_layout()  # Adjust layout to prevent clipping\n",
    "plt.show()"
   ]
  },
  {
   "cell_type": "code",
   "execution_count": null,
   "id": "8fa0d63f",
   "metadata": {},
   "outputs": [],
   "source": []
  }
 ],
 "metadata": {
  "kernelspec": {
   "display_name": ".venv (3.11.2)",
   "language": "python",
   "name": "python3"
  },
  "language_info": {
   "codemirror_mode": {
    "name": "ipython",
    "version": 3
   },
   "file_extension": ".py",
   "mimetype": "text/x-python",
   "name": "python",
   "nbconvert_exporter": "python",
   "pygments_lexer": "ipython3",
   "version": "3.11.2"
  }
 },
 "nbformat": 4,
 "nbformat_minor": 5
}
