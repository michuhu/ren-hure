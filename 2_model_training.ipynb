{
 "cells": [
  {
   "cell_type": "code",
   "execution_count": null,
   "id": "c66b369d",
   "metadata": {},
   "outputs": [],
   "source": [
    "from pathlib import Path\n",
    "import tensorflow as tf\n",
    "import keras \n",
    "\n",
    "from keras import layers, models\n",
    "\n",
    "\n",
    "print(\"GPU available:\", tf.config.list_physical_devices('GPU'))"
   ]
  },
  {
   "cell_type": "markdown",
   "id": "10ab2329",
   "metadata": {},
   "source": [
    "### Workdir"
   ]
  },
  {
   "cell_type": "code",
   "execution_count": null,
   "id": "7d414178",
   "metadata": {},
   "outputs": [],
   "source": [
    "data_dir = Path(\"work_dataset/\")"
   ]
  },
  {
   "cell_type": "markdown",
   "id": "c29e8974",
   "metadata": {},
   "source": [
    "### Check class mapping"
   ]
  },
  {
   "cell_type": "code",
   "execution_count": null,
   "id": "d6d10337",
   "metadata": {},
   "outputs": [],
   "source": [
    "# TODO: sprawdzić wszystkie parametry w tym wywołaniu\n",
    "base_model = keras.applications.EfficientNetV2L(\n",
    "    include_top=False,\n",
    "    weights=\"imagenet\",\n",
    "    input_tensor=None,\n",
    "    input_shape=(480, 480, 3),\n",
    "    pooling=\"avg\",\n",
    "    # classes=1000,\n",
    "    # classifier_activation=\"softmax\",\n",
    "    include_preprocessing=True,\n",
    "    name=\"efficientnetv2-l\",\n",
    ")\n",
    "print(base_model.input_shape)"
   ]
  },
  {
   "cell_type": "code",
   "execution_count": null,
   "id": "c3487a04",
   "metadata": {},
   "outputs": [],
   "source": [
    "model = models.Sequential([\n",
    "    base_model,\n",
    "    # layers.GlobalAveragePooling2D(),\n",
    "    layers.Dropout(0.2),\n",
    "    layers.Dense(4, activation='softmax')  # sigmoid dla binary classification\n",
    "])"
   ]
  },
  {
   "cell_type": "code",
   "execution_count": null,
   "id": "e1aef378",
   "metadata": {},
   "outputs": [],
   "source": [
    "base_model.trainable = False"
   ]
  },
  {
   "cell_type": "code",
   "execution_count": null,
   "id": "7fe401db",
   "metadata": {},
   "outputs": [],
   "source": [
    "batch_size = 256\n",
    "base_lr = 1e-3\n",
    "lr = base_lr * (batch_size / 32)  # => 0.004\n",
    "\n",
    "optimizer = tf.keras.optimizers.Adam(learning_rate=lr)"
   ]
  },
  {
   "cell_type": "code",
   "execution_count": null,
   "id": "f922db11",
   "metadata": {},
   "outputs": [],
   "source": [
    "lr\n"
   ]
  },
  {
   "cell_type": "code",
   "execution_count": null,
   "id": "6540028a",
   "metadata": {},
   "outputs": [],
   "source": [
    "model.compile(\n",
    "    optimizer=optimizer,\n",
    "    loss='categorical_crossentropy',  # 'binary_...' lub 'categorical_crossentropy' dla wieloklasowej\n",
    "    metrics=['accuracy']\n",
    ")"
   ]
  },
  {
   "cell_type": "code",
   "execution_count": null,
   "id": "73fbb21c",
   "metadata": {},
   "outputs": [],
   "source": [
    "model.summary()"
   ]
  },
  {
   "cell_type": "code",
   "execution_count": null,
   "id": "00d245db",
   "metadata": {},
   "outputs": [],
   "source": [
    "# TODO: sprawdzić wszystkie parametry w tym wywołaniu\n",
    "\n",
    "train_ds, val_ds = keras.utils.image_dataset_from_directory(\n",
    "    data_dir,\n",
    "    label_mode=\"categorical\",\n",
    "    validation_split=0.2,\n",
    "    subset=\"both\",\n",
    "    seed=1337,\n",
    "    image_size=(480, 480),\n",
    "    batch_size=256,\n",
    "    crop_to_aspect_ratio=True,\n",
    ")"
   ]
  },
  {
   "cell_type": "code",
   "execution_count": null,
   "id": "c432ab35",
   "metadata": {},
   "outputs": [],
   "source": [
    "train_ds.class_names"
   ]
  },
  {
   "cell_type": "code",
   "execution_count": null,
   "id": "650f15bc",
   "metadata": {},
   "outputs": [],
   "source": [
    "history = model.fit(train_ds, validation_data=val_ds, epochs=10)"
   ]
  },
  {
   "cell_type": "code",
   "execution_count": null,
   "id": "1abce7db",
   "metadata": {},
   "outputs": [],
   "source": [
    "# Największe accuracy na danych treningowych\n",
    "max_acc = max(history.history['accuracy'])\n",
    "\n",
    "# Najmniejszy loss na danych treningowych\n",
    "min_loss = min(history.history['loss'])\n",
    "\n",
    "# Największe accuracy na danych walidacyjnych\n",
    "max_val_acc = max(history.history['val_accuracy'])\n",
    "\n",
    "# Najmniejszy loss na danych walidacyjnych\n",
    "min_val_loss = min(history.history['val_loss'])"
   ]
  },
  {
   "cell_type": "code",
   "execution_count": null,
   "id": "509cebae",
   "metadata": {},
   "outputs": [],
   "source": [
    "best_epoch_acc = history.history['accuracy'].index(max_acc) + 1\n",
    "best_epoch_loss = history.history['loss'].index(min_loss) + 1"
   ]
  },
  {
   "cell_type": "code",
   "execution_count": null,
   "id": "5d185ca5",
   "metadata": {},
   "outputs": [],
   "source": [
    "max_val_acc"
   ]
  },
  {
   "cell_type": "code",
   "execution_count": null,
   "id": "0c2c98dc",
   "metadata": {},
   "outputs": [],
   "source": [
    "from tensorflow.keras.preprocessing.image import load_img, img_to_array\n",
    "import numpy as np\n",
    "\n",
    "# Załaduj obraz — dostosuj ścieżkę i rozmiar do wymaganego przez model\n",
    "img = load_img('work_dataset/wżery na lakierze/12673_photo_(11)..jpg', target_size=(480, 480)) \n",
    "\n",
    "# Zamień obraz na tablicę NumPy\n",
    "img_array = img_to_array(img)\n",
    "\n",
    "# Normalizacja (jeśli była stosowana podczas treningu)\n",
    "img_array = img_array / 255.0\n",
    "\n",
    "# Dodaj dodatkowy wymiar (batch size = 1)\n",
    "img_array = np.expand_dims(img_array, axis=0)  # kształt: (1, 150, 150, 3)"
   ]
  },
  {
   "cell_type": "code",
   "execution_count": null,
   "id": "c8a7e4cc",
   "metadata": {},
   "outputs": [],
   "source": [
    "predictions = model.predict(img_array)"
   ]
  },
  {
   "cell_type": "code",
   "execution_count": null,
   "id": "7bf38019",
   "metadata": {},
   "outputs": [],
   "source": [
    "predictions"
   ]
  },
  {
   "cell_type": "code",
   "execution_count": null,
   "id": "90b72375",
   "metadata": {},
   "outputs": [],
   "source": [
    "import numpy as np\n",
    "\n",
    "predicted_class = train_ds.class_names[np.argmax(predictions[0])]\n",
    "print(f\"Przewidywana klasa: {predicted_class}\")"
   ]
  },
  {
   "cell_type": "code",
   "execution_count": null,
   "id": "c2700599",
   "metadata": {},
   "outputs": [],
   "source": []
  }
 ],
 "metadata": {
  "kernelspec": {
   "display_name": ".venv (3.11.2)",
   "language": "python",
   "name": "python3"
  },
  "language_info": {
   "codemirror_mode": {
    "name": "ipython",
    "version": 3
   },
   "file_extension": ".py",
   "mimetype": "text/x-python",
   "name": "python",
   "nbconvert_exporter": "python",
   "pygments_lexer": "ipython3",
   "version": "3.11.2"
  }
 },
 "nbformat": 4,
 "nbformat_minor": 5
}
