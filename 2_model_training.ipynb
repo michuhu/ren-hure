{
 "cells": [
  {
   "cell_type": "code",
   "execution_count": 8,
   "id": "2f3029ee",
   "metadata": {},
   "outputs": [],
   "source": [
    "from torchvision.models import EfficientNet_V2_L_Weights, efficientnet_v2_l"
   ]
  },
  {
   "cell_type": "code",
   "execution_count": null,
   "id": "7d414178",
   "metadata": {},
   "outputs": [],
   "source": [
    "data_dir = ..."
   ]
  },
  {
   "cell_type": "code",
   "execution_count": 15,
   "id": "f274febc",
   "metadata": {},
   "outputs": [],
   "source": [
    "weights = EfficientNet_V2_L_Weights.IMAGENET1K_V1\n",
    "preprocess = weights.transforms()\n",
    "\n",
    "model = efficientnet_v2_l(weights=weights)"
   ]
  },
  {
   "cell_type": "code",
   "execution_count": null,
   "id": "b87f10fe",
   "metadata": {},
   "outputs": [],
   "source": []
  },
  {
   "cell_type": "code",
   "execution_count": null,
   "id": "9dd1fd37",
   "metadata": {},
   "outputs": [],
   "source": []
  },
  {
   "cell_type": "code",
   "execution_count": null,
   "id": "d29b4d7b",
   "metadata": {},
   "outputs": [],
   "source": [
    "preprocess"
   ]
  }
 ],
 "metadata": {
  "kernelspec": {
   "display_name": ".venv (3.12.10)",
   "language": "python",
   "name": "python3"
  },
  "language_info": {
   "codemirror_mode": {
    "name": "ipython",
    "version": 3
   },
   "file_extension": ".py",
   "mimetype": "text/x-python",
   "name": "python",
   "nbconvert_exporter": "python",
   "pygments_lexer": "ipython3",
   "version": "3.12.10"
  }
 },
 "nbformat": 4,
 "nbformat_minor": 5
}
