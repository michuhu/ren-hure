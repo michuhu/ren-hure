{
 "cells": [
  {
   "cell_type": "code",
   "execution_count": 38,
   "id": "c02bcf53",
   "metadata": {},
   "outputs": [],
   "source": [
    "import os\n",
    "import shutil\n",
    "from pathlib import Path\n",
    "\n",
    "import pandas as pd\n",
    "from pandas import DataFrame"
   ]
  },
  {
   "cell_type": "code",
   "execution_count": 39,
   "id": "bc944e19",
   "metadata": {},
   "outputs": [],
   "source": [
    "pd.set_option(\"display.max_rows\", 20)"
   ]
  },
  {
   "cell_type": "markdown",
   "id": "3c1ddd9a",
   "metadata": {},
   "source": [
    "### Read the file"
   ]
  },
  {
   "cell_type": "code",
   "execution_count": 40,
   "id": "77cef5b6",
   "metadata": {},
   "outputs": [],
   "source": [
    "data = pd.read_excel(\"bmtfiles/work.xlsx\")"
   ]
  },
  {
   "cell_type": "code",
   "execution_count": 41,
   "id": "f26a5c38",
   "metadata": {},
   "outputs": [
    {
     "data": {
      "text/html": [
       "<div>\n",
       "<style scoped>\n",
       "    .dataframe tbody tr th:only-of-type {\n",
       "        vertical-align: middle;\n",
       "    }\n",
       "\n",
       "    .dataframe tbody tr th {\n",
       "        vertical-align: top;\n",
       "    }\n",
       "\n",
       "    .dataframe thead th {\n",
       "        text-align: right;\n",
       "    }\n",
       "</style>\n",
       "<table border=\"1\" class=\"dataframe\">\n",
       "  <thead>\n",
       "    <tr style=\"text-align: right;\">\n",
       "      <th></th>\n",
       "      <th>ExpertiseId</th>\n",
       "      <th>Element</th>\n",
       "      <th>Location</th>\n",
       "      <th>Damage</th>\n",
       "      <th>ImagePath</th>\n",
       "    </tr>\n",
       "  </thead>\n",
       "  <tbody>\n",
       "    <tr>\n",
       "      <th>0</th>\n",
       "      <td>4565</td>\n",
       "      <td>pojazd</td>\n",
       "      <td>zew.</td>\n",
       "      <td>poglądowe</td>\n",
       "      <td>bmtfiles/photos/4565/20240909_101359222_md_ima...</td>\n",
       "    </tr>\n",
       "    <tr>\n",
       "      <th>1</th>\n",
       "      <td>4575</td>\n",
       "      <td>pojazd</td>\n",
       "      <td>zew.</td>\n",
       "      <td>poglądowe</td>\n",
       "      <td>bmtfiles/photos/4575/20240909_115602474_md_ima...</td>\n",
       "    </tr>\n",
       "    <tr>\n",
       "      <th>2</th>\n",
       "      <td>4561</td>\n",
       "      <td>pojazd</td>\n",
       "      <td>zew.</td>\n",
       "      <td>poglądowe</td>\n",
       "      <td>bmtfiles/photos/4561/photo.jpg</td>\n",
       "    </tr>\n",
       "    <tr>\n",
       "      <th>3</th>\n",
       "      <td>4554</td>\n",
       "      <td>pojazd</td>\n",
       "      <td>zew.</td>\n",
       "      <td>poglądowe</td>\n",
       "      <td>bmtfiles/photos/4554/photo.jpg</td>\n",
       "    </tr>\n",
       "    <tr>\n",
       "      <th>4</th>\n",
       "      <td>3359</td>\n",
       "      <td>pojazd</td>\n",
       "      <td>zew.</td>\n",
       "      <td>poglądowe</td>\n",
       "      <td>bmtfiles/photos/3359/photo.jpg</td>\n",
       "    </tr>\n",
       "  </tbody>\n",
       "</table>\n",
       "</div>"
      ],
      "text/plain": [
       "   ExpertiseId Element Location     Damage  \\\n",
       "0         4565  pojazd     zew.  poglądowe   \n",
       "1         4575  pojazd     zew.  poglądowe   \n",
       "2         4561  pojazd     zew.  poglądowe   \n",
       "3         4554  pojazd     zew.  poglądowe   \n",
       "4         3359  pojazd     zew.  poglądowe   \n",
       "\n",
       "                                           ImagePath  \n",
       "0  bmtfiles/photos/4565/20240909_101359222_md_ima...  \n",
       "1  bmtfiles/photos/4575/20240909_115602474_md_ima...  \n",
       "2                     bmtfiles/photos/4561/photo.jpg  \n",
       "3                     bmtfiles/photos/4554/photo.jpg  \n",
       "4                     bmtfiles/photos/3359/photo.jpg  "
      ]
     },
     "execution_count": 41,
     "metadata": {},
     "output_type": "execute_result"
    }
   ],
   "source": [
    "data.head()"
   ]
  },
  {
   "cell_type": "markdown",
   "id": "f342b294",
   "metadata": {},
   "source": [
    "### Unique elements of car parts that can be analzed"
   ]
  },
  {
   "cell_type": "code",
   "execution_count": 42,
   "id": "dcc93a53",
   "metadata": {},
   "outputs": [
    {
     "data": {
      "text/plain": [
       "array(['pojazd', 'maska silnika', 'drzwi', 'rura turbo', 'zderzak',\n",
       "       'mata wygłuszenia silnika', 'błotnik', 'Naklejki ozdobne drzwi',\n",
       "       'wnęka drzwi', 'szyba', 'wnętrze', 'lusterko', 'rama dachu',\n",
       "       'nakładka zderzaka', 'uszczelka ramy dachu', 'lampa',\n",
       "       'klapa bagażnika', 'klapka wlewu paliwa', 'nadwozie', 'dach',\n",
       "       'podsufitka', 'listwa błotnika', 'felga', 'tapicerka fotel',\n",
       "       'uchwyt holowniczy', 'próg', 'tapicerka kanapa', 'tapicerka',\n",
       "       'elementy plastikowe', 'podnośnik', 'klamka drzwi', 'zaślepka',\n",
       "       'półka bagażnika', 'zaślepka isofix', 'kratka wlotu powietrza',\n",
       "       'reflektor/lampa', 'absorber', 'nakładka klapy bagażnika', 'opona',\n",
       "       'kołpak', 'tapicerka bagażnik', 'listwa szyby drzwi',\n",
       "       'listwa drzwi', 'dywaniki', 'antena', 'listwa', 'nadkole',\n",
       "       'słupek', 'belka zderzaka', 'osłona silnika',\n",
       "       'uszczelka podszybia', 'atrapa chłodnicy', 'wzmocnienie czołowe',\n",
       "       'uszczelka wnęki drzwi', 'uszczelka szyby drzwi', 'Komora silnika',\n",
       "       'spinki', 'mata wygłuszenia podszybia', 'grill',\n",
       "       'osłona pod zderzakiem', 'pasy bezpieczeństwa',\n",
       "       'ramka tablicy rej.', 'ściana boczna', 'apteczka',\n",
       "       'znaczek firmowy', 'przestrzeń ladunkowa', 'chlapacz',\n",
       "       'drzwi skrzydłowe', 'drzwi przesuwne',\n",
       "       'roleta lub pokrywa bagażnika', 'zaczep półki bagażnika',\n",
       "       'listwa drzwi przesuwnych', 'Nakładka wycieraczki',\n",
       "       'ślizg zderzaka', 'słupek drzwi środkowy', 'narożnik zderzaka',\n",
       "       'kierunkowskaz w lusterku', 'półka bagażnika t',\n",
       "       'listwa ozdobna deski rozdzielczej', 'opony montaż 4szt.',\n",
       "       'spojler zderzaka', 'kierownica powietrza', 'gaśnica',\n",
       "       'koło zapasowe / zestaw naprawczy', 'drzwi skrzydłowe wew.',\n",
       "       'kierownica', 'etui', 'podstawa lusterka', 'pióra wycieraczek',\n",
       "       'trójkąt', 'atrapa halogenu', 'klapka gniazda ładowania EV',\n",
       "       'zaślepka zderzaka', 'klucz do kół',\n",
       "       'kluczyk do felg lub kołpaków', 'kołpaki oryginalne 4 szt',\n",
       "       'korek zbiornika płynu spryskiwacza',\n",
       "       '2 komplety kluczyków / kart'], dtype=object)"
      ]
     },
     "execution_count": 42,
     "metadata": {},
     "output_type": "execute_result"
    }
   ],
   "source": [
    "data[\"Element\"].unique()"
   ]
  },
  {
   "cell_type": "code",
   "execution_count": 43,
   "id": "39107692",
   "metadata": {},
   "outputs": [
    {
     "name": "stdout",
     "output_type": "stream",
     "text": [
      "Element\n",
      "pojazd                                11810\n",
      "nadwozie                               8982\n",
      "zderzak                                4133\n",
      "szyba                                  3625\n",
      "tapicerka                              3549\n",
      "drzwi                                  2737\n",
      "dach                                   2251\n",
      "lusterko                               1802\n",
      "maska silnika                          1677\n",
      "błotnik                                1660\n",
      "wnętrze                                 960\n",
      "wnęka drzwi                             953\n",
      "klapa bagażnika                         900\n",
      "elementy plastikowe                     805\n",
      "nakładka zderzaka                       768\n",
      "listwa błotnika                         574\n",
      "felga                                   556\n",
      "lampa                                   458\n",
      "drzwi skrzydłowe                        411\n",
      "próg                                    401\n",
      "podsufitka                              400\n",
      "rura turbo                              370\n",
      "listwa drzwi                            343\n",
      "klapka wlewu paliwa                     319\n",
      "rama dachu                              282\n",
      "nakładka klapy bagażnika                159\n",
      "opona                                   157\n",
      "mata wygłuszenia silnika                149\n",
      "antena                                  149\n",
      "tapicerka fotel                         142\n",
      "klamka drzwi                            116\n",
      "drzwi skrzydłowe wew.                   115\n",
      "reflektor/lampa                         107\n",
      "uszczelka szyby drzwi                   103\n",
      "drzwi przesuwne                          99\n",
      "ramka tablicy rej.                       93\n",
      "tapicerka kanapa                         91\n",
      "ściana boczna                            91\n",
      "osłona silnika                           88\n",
      "osłona pod zderzakiem                    81\n",
      "kołpak                                   76\n",
      "dywaniki                                 74\n",
      "nadkole                                  72\n",
      "grill                                    67\n",
      "tapicerka bagażnik                       64\n",
      "belka zderzaka                           61\n",
      "półka bagażnika                          59\n",
      "zaczep półki bagażnika                   57\n",
      "Naklejki ozdobne drzwi                   47\n",
      "narożnik zderzaka                        44\n",
      "słupek drzwi środkowy                    42\n",
      "zaślepka isofix                          42\n",
      "słupek                                   37\n",
      "uszczelka ramy dachu                     36\n",
      "kratka wlotu powietrza                   36\n",
      "absorber                                 35\n",
      "przestrzeń ladunkowa                     31\n",
      "roleta lub pokrywa bagażnika             31\n",
      "uszczelka podszybia                      30\n",
      "uszczelka wnęki drzwi                    26\n",
      "kierunkowskaz w lusterku                 24\n",
      "pasy bezpieczeństwa                      22\n",
      "apteczka                                 21\n",
      "znaczek firmowy                          21\n",
      "opony montaż 4szt.                       19\n",
      "spinki                                   19\n",
      "listwa szyby drzwi                       18\n",
      "gaśnica                                  16\n",
      "zaślepka                                 15\n",
      "atrapa chłodnicy                         15\n",
      "listwa drzwi przesuwnych                 13\n",
      "koło zapasowe / zestaw naprawczy         12\n",
      "półka bagażnika t                        12\n",
      "trójkąt                                  10\n",
      "wzmocnienie czołowe                      10\n",
      "podnośnik                                 9\n",
      "atrapa halogenu                           8\n",
      "listwa                                    8\n",
      "mata wygłuszenia podszybia                7\n",
      "etui                                      7\n",
      "ślizg zderzaka                            6\n",
      "pióra wycieraczek                         5\n",
      "listwa ozdobna deski rozdzielczej         4\n",
      "kołpaki oryginalne 4 szt                  4\n",
      "Komora silnika                            4\n",
      "2 komplety kluczyków / kart               3\n",
      "zaślepka zderzaka                         3\n",
      "klapka gniazda ładowania EV               2\n",
      "korek zbiornika płynu spryskiwacza        2\n",
      "kluczyk do felg lub kołpaków              2\n",
      "klucz do kół                              2\n",
      "spojler zderzaka                          2\n",
      "podstawa lusterka                         2\n",
      "kierownica                                2\n",
      "uchwyt holowniczy                         2\n",
      "kierownica powietrza                      1\n",
      "chlapacz                                  1\n",
      "Nakładka wycieraczki                      1\n",
      "Name: count, dtype: int64\n"
     ]
    }
   ],
   "source": [
    "with pd.option_context('display.max_rows', None):\n",
    "    print(data[\"Element\"].value_counts())"
   ]
  },
  {
   "cell_type": "code",
   "execution_count": 44,
   "id": "0cc615da",
   "metadata": {},
   "outputs": [],
   "source": [
    "ELEMENT = \"zderzak\""
   ]
  },
  {
   "cell_type": "code",
   "execution_count": 55,
   "id": "7cc9612a",
   "metadata": {},
   "outputs": [],
   "source": [
    "filtered = data[data[\"Element\"] == ELEMENT]"
   ]
  },
  {
   "cell_type": "code",
   "execution_count": 57,
   "id": "e72c09fb",
   "metadata": {},
   "outputs": [
    {
     "data": {
      "text/html": [
       "<div>\n",
       "<style scoped>\n",
       "    .dataframe tbody tr th:only-of-type {\n",
       "        vertical-align: middle;\n",
       "    }\n",
       "\n",
       "    .dataframe tbody tr th {\n",
       "        vertical-align: top;\n",
       "    }\n",
       "\n",
       "    .dataframe thead th {\n",
       "        text-align: right;\n",
       "    }\n",
       "</style>\n",
       "<table border=\"1\" class=\"dataframe\">\n",
       "  <thead>\n",
       "    <tr style=\"text-align: right;\">\n",
       "      <th></th>\n",
       "      <th>ExpertiseId</th>\n",
       "      <th>Element</th>\n",
       "      <th>Location</th>\n",
       "      <th>Damage</th>\n",
       "      <th>ImagePath</th>\n",
       "    </tr>\n",
       "  </thead>\n",
       "  <tbody>\n",
       "    <tr>\n",
       "      <th>94</th>\n",
       "      <td>2165</td>\n",
       "      <td>zderzak</td>\n",
       "      <td>przód</td>\n",
       "      <td>uszkodzenie</td>\n",
       "      <td>bmtfiles/photos/2165/photo_(11).jpg</td>\n",
       "    </tr>\n",
       "    <tr>\n",
       "      <th>95</th>\n",
       "      <td>2165</td>\n",
       "      <td>zderzak</td>\n",
       "      <td>przód</td>\n",
       "      <td>uszkodzenie</td>\n",
       "      <td>bmtfiles/photos/2165/photo_(12).jpg</td>\n",
       "    </tr>\n",
       "    <tr>\n",
       "      <th>104</th>\n",
       "      <td>2165</td>\n",
       "      <td>zderzak</td>\n",
       "      <td>przód</td>\n",
       "      <td>uszkodzenie</td>\n",
       "      <td>bmtfiles/photos/2165/photo_(13).jpg</td>\n",
       "    </tr>\n",
       "    <tr>\n",
       "      <th>105</th>\n",
       "      <td>2165</td>\n",
       "      <td>zderzak</td>\n",
       "      <td>przód</td>\n",
       "      <td>uszkodzenie</td>\n",
       "      <td>bmtfiles/photos/2165/photo_(14).jpg</td>\n",
       "    </tr>\n",
       "    <tr>\n",
       "      <th>113</th>\n",
       "      <td>2165</td>\n",
       "      <td>zderzak</td>\n",
       "      <td>przód</td>\n",
       "      <td>rysa z uszkodz. lakieru</td>\n",
       "      <td>bmtfiles/photos/2165/photo_(15).jpg</td>\n",
       "    </tr>\n",
       "  </tbody>\n",
       "</table>\n",
       "</div>"
      ],
      "text/plain": [
       "     ExpertiseId  Element Location                   Damage  \\\n",
       "94          2165  zderzak    przód              uszkodzenie   \n",
       "95          2165  zderzak    przód              uszkodzenie   \n",
       "104         2165  zderzak    przód              uszkodzenie   \n",
       "105         2165  zderzak    przód              uszkodzenie   \n",
       "113         2165  zderzak    przód  rysa z uszkodz. lakieru   \n",
       "\n",
       "                               ImagePath  \n",
       "94   bmtfiles/photos/2165/photo_(11).jpg  \n",
       "95   bmtfiles/photos/2165/photo_(12).jpg  \n",
       "104  bmtfiles/photos/2165/photo_(13).jpg  \n",
       "105  bmtfiles/photos/2165/photo_(14).jpg  \n",
       "113  bmtfiles/photos/2165/photo_(15).jpg  "
      ]
     },
     "execution_count": 57,
     "metadata": {},
     "output_type": "execute_result"
    }
   ],
   "source": [
    "filtered.head()"
   ]
  },
  {
   "cell_type": "markdown",
   "id": "d161f53c",
   "metadata": {},
   "source": [
    "### Types of damage"
   ]
  },
  {
   "cell_type": "code",
   "execution_count": 58,
   "id": "187df53c",
   "metadata": {},
   "outputs": [
    {
     "data": {
      "text/plain": [
       "Damage\n",
       "rysa z uszkodz. lakieru      2755\n",
       "ubytek lakieru                445\n",
       "uszkodzenie                   393\n",
       "rysy                          199\n",
       "deformacja+ubytki lakieru      92\n",
       "inne                           61\n",
       "odprysk                        58\n",
       "rysy + odpryski                54\n",
       "zła jakość naprawy             20\n",
       "wżery na lakierze              14\n",
       "rysa do polerowania            14\n",
       "odkształcony                   10\n",
       "złuszczony lakier               7\n",
       "źle spasowany                   4\n",
       "odpryski - rant                 4\n",
       "wada lakiernicza                3\n",
       "Name: count, dtype: int64"
      ]
     },
     "execution_count": 58,
     "metadata": {},
     "output_type": "execute_result"
    }
   ],
   "source": [
    "filtered[\"Damage\"].value_counts()"
   ]
  },
  {
   "cell_type": "markdown",
   "id": "d7a1c2a5",
   "metadata": {},
   "source": [
    "### Get one damage class"
   ]
  },
  {
   "cell_type": "code",
   "execution_count": 59,
   "id": "42232470",
   "metadata": {},
   "outputs": [],
   "source": [
    "DAMAGE = \"rysa z uszkodz. lakieru\""
   ]
  },
  {
   "cell_type": "code",
   "execution_count": 60,
   "id": "5143ddef",
   "metadata": {},
   "outputs": [],
   "source": [
    "one_class = filtered[filtered[\"Damage\"] == DAMAGE]"
   ]
  },
  {
   "cell_type": "code",
   "execution_count": 61,
   "id": "beb012fe",
   "metadata": {},
   "outputs": [
    {
     "data": {
      "text/plain": [
       "(2755, 5)"
      ]
     },
     "execution_count": 61,
     "metadata": {},
     "output_type": "execute_result"
    }
   ],
   "source": [
    "one_class.shape"
   ]
  },
  {
   "cell_type": "code",
   "execution_count": 67,
   "id": "b30bdc3a",
   "metadata": {},
   "outputs": [],
   "source": [
    "os.makedirs(\"work_dataset\", exist_ok=True)\n",
    "\n",
    "one_class_file = f\"work_dataset/{ELEMENT}_{DAMAGE}.csv\"\n",
    "\n",
    "one_class.to_csv(one_class_file)"
   ]
  },
  {
   "cell_type": "markdown",
   "id": "30a7969b",
   "metadata": {},
   "source": [
    "### Read csv, extract filepaths and save photos to work_dataset"
   ]
  },
  {
   "cell_type": "code",
   "execution_count": 63,
   "id": "69a7c376",
   "metadata": {},
   "outputs": [],
   "source": [
    "work_csv = pd.read_csv(one_class_file)"
   ]
  },
  {
   "cell_type": "code",
   "execution_count": 64,
   "id": "4d4815e5",
   "metadata": {},
   "outputs": [],
   "source": [
    "filepaths = work_csv[\"ImagePath\"]"
   ]
  },
  {
   "cell_type": "code",
   "execution_count": 65,
   "id": "6a49cf0a",
   "metadata": {},
   "outputs": [
    {
     "name": "stdout",
     "output_type": "stream",
     "text": [
      "[Errno 2] No such file or directory: 'bmtfiles/photos/10982/photo_(13).jpg'\n",
      "[Errno 2] No such file or directory: 'bmtfiles/photos/10982/photo_(15).jpg'\n",
      "[Errno 2] No such file or directory: 'bmtfiles/photos/12700/2025-06-10_13-37-50_(1).jpg'\n",
      "[Errno 2] No such file or directory: 'bmtfiles/photos/12700/2025-06-10_13-37-51.jpg'\n",
      "[Errno 2] No such file or directory: 'bmtfiles/photos/12700/2025-06-10_13-37-51_(1).jpg'\n",
      "[Errno 2] No such file or directory: 'bmtfiles/photos/12700/2025-06-10_13-37-52.jpg'\n",
      "[Errno 2] No such file or directory: 'bmtfiles/photos/12700/2025-06-10_13-37-53.jpg'\n",
      "[Errno 2] No such file or directory: 'bmtfiles/photos/12700/2025-06-10_13-37-53_(1).jpg'\n",
      "[Errno 2] No such file or directory: 'bmtfiles/photos/10991/2025-06-11_07-01-29.jpg'\n",
      "[Errno 2] No such file or directory: 'bmtfiles/photos/10991/2025-06-11_07-01-31.jpg'\n",
      "[Errno 2] No such file or directory: 'bmtfiles/photos/10991/2025-06-11_07-01-33.jpg'\n",
      "[Errno 2] No such file or directory: 'bmtfiles/photos/10991/2025-06-11_07-01-35.jpg'\n",
      "[Errno 2] No such file or directory: 'bmtfiles/photos/10991/2025-06-11_07-01-36.jpg'\n",
      "[Errno 2] No such file or directory: 'bmtfiles/photos/12728/2025-06-11_12-54-30.jpg'\n",
      "[Errno 2] No such file or directory: 'bmtfiles/photos/12728/2025-06-11_12-54-31.jpg'\n"
     ]
    }
   ],
   "source": [
    "with pd.option_context('display.max_rows', None):\n",
    "    workdir = Path(f\"work_dataset/{ELEMENT}/{DAMAGE}/photos\")\n",
    "    workdir.mkdir(parents=True, exist_ok=True)\n",
    "\n",
    "    for f in filepaths.values:\n",
    "        src = Path(f)\n",
    "\n",
    "        src_fldr = src.parts[-2]\n",
    "        dest = workdir.joinpath(f\"{src_fldr}_{src.name}\")\n",
    "\n",
    "        try: \n",
    "            shutil.copy(src, dest)\n",
    "        except Exception as e:\n",
    "            print(e)\n",
    "            continue"
   ]
  },
  {
   "cell_type": "code",
   "execution_count": 66,
   "id": "a69db818",
   "metadata": {},
   "outputs": [
    {
     "data": {
      "text/plain": [
       "22"
      ]
     },
     "execution_count": 66,
     "metadata": {},
     "output_type": "execute_result"
    }
   ],
   "source": [
    "# Difference between thoretically available files and physically copied ones:\n",
    "len(one_class) - len([n for n in os.listdir(workdir)])"
   ]
  },
  {
   "cell_type": "code",
   "execution_count": null,
   "id": "c1f9ca4b",
   "metadata": {},
   "outputs": [],
   "source": []
  }
 ],
 "metadata": {
  "kernelspec": {
   "display_name": ".venv",
   "language": "python",
   "name": "python3"
  },
  "language_info": {
   "codemirror_mode": {
    "name": "ipython",
    "version": 3
   },
   "file_extension": ".py",
   "mimetype": "text/x-python",
   "name": "python",
   "nbconvert_exporter": "python",
   "pygments_lexer": "ipython3",
   "version": "3.12.10"
  }
 },
 "nbformat": 4,
 "nbformat_minor": 5
}
