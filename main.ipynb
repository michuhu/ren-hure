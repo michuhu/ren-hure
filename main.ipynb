{
 "cells": [
  {
   "cell_type": "code",
   "execution_count": null,
   "id": "c02bcf53",
   "metadata": {},
   "outputs": [],
   "source": [
    "import pandas as pd"
   ]
  },
  {
   "cell_type": "code",
   "execution_count": null,
   "id": "bc944e19",
   "metadata": {},
   "outputs": [],
   "source": [
    "pd.set_option(\"display.max_rows\", 20)"
   ]
  },
  {
   "cell_type": "markdown",
   "id": "3c1ddd9a",
   "metadata": {},
   "source": [
    "### Read the file"
   ]
  },
  {
   "cell_type": "code",
   "execution_count": null,
   "id": "77cef5b6",
   "metadata": {},
   "outputs": [],
   "source": [
    "data = pd.read_excel(\"bmtfiles/work.xlsx\")"
   ]
  },
  {
   "cell_type": "code",
   "execution_count": null,
   "id": "f26a5c38",
   "metadata": {},
   "outputs": [],
   "source": [
    "data.head()"
   ]
  },
  {
   "cell_type": "markdown",
   "id": "f342b294",
   "metadata": {},
   "source": [
    "### Unique elements of car parts that can be analzed"
   ]
  },
  {
   "cell_type": "code",
   "execution_count": null,
   "id": "dcc93a53",
   "metadata": {},
   "outputs": [],
   "source": [
    "data[\"Element\"].unique()"
   ]
  },
  {
   "cell_type": "code",
   "execution_count": null,
   "id": "39107692",
   "metadata": {},
   "outputs": [],
   "source": [
    "with pd.option_context('display.max_rows', None):\n",
    "    print(data[\"Element\"].value_counts())"
   ]
  },
  {
   "cell_type": "code",
   "execution_count": null,
   "id": "0cc615da",
   "metadata": {},
   "outputs": [],
   "source": [
    "ELEMENT = \"zderzak\""
   ]
  },
  {
   "cell_type": "code",
   "execution_count": null,
   "id": "7cc9612a",
   "metadata": {},
   "outputs": [],
   "source": [
    "filtered = data[data[\"Element\"] == ELEMENT]"
   ]
  },
  {
   "cell_type": "code",
   "execution_count": null,
   "id": "e72c09fb",
   "metadata": {},
   "outputs": [],
   "source": [
    "filtered.head()"
   ]
  },
  {
   "cell_type": "markdown",
   "id": "d161f53c",
   "metadata": {},
   "source": [
    "### Types of damage"
   ]
  },
  {
   "cell_type": "code",
   "execution_count": null,
   "id": "187df53c",
   "metadata": {},
   "outputs": [],
   "source": [
    "filtered[\"Damage\"].value_counts()"
   ]
  },
  {
   "cell_type": "markdown",
   "id": "d7a1c2a5",
   "metadata": {},
   "source": [
    "### Get one damage class"
   ]
  },
  {
   "cell_type": "code",
   "execution_count": null,
   "id": "42232470",
   "metadata": {},
   "outputs": [],
   "source": [
    "DAMAGE = \"rysa z uszkodz. lakieru\""
   ]
  },
  {
   "cell_type": "code",
   "execution_count": null,
   "id": "5143ddef",
   "metadata": {},
   "outputs": [],
   "source": [
    "one_class = filtered[filtered[\"Damage\"] == DAMAGE]"
   ]
  },
  {
   "cell_type": "code",
   "execution_count": null,
   "id": "beb012fe",
   "metadata": {},
   "outputs": [],
   "source": [
    "one_class.shape"
   ]
  },
  {
   "cell_type": "code",
   "execution_count": null,
   "id": "b30bdc3a",
   "metadata": {},
   "outputs": [],
   "source": [
    "import os\n",
    "\n",
    "os.makedirs(\"work_dataset\", exist_ok=True)\n",
    "\n",
    "one_class_file = f\"work_dataset/{ELEMENT}_{DAMAGE}.csv\"\n",
    "\n",
    "one_class.to_csv(one_class_file)"
   ]
  },
  {
   "cell_type": "markdown",
   "id": "30a7969b",
   "metadata": {},
   "source": [
    "### Read csv, extract filepaths and save photos to work_dataset"
   ]
  },
  {
   "cell_type": "code",
   "execution_count": null,
   "id": "69a7c376",
   "metadata": {},
   "outputs": [],
   "source": [
    "work_csv = pd.read_csv(one_class_file)"
   ]
  },
  {
   "cell_type": "code",
   "execution_count": null,
   "id": "4d4815e5",
   "metadata": {},
   "outputs": [],
   "source": [
    "filepaths = work_csv[\"ImagePath\"]"
   ]
  },
  {
   "cell_type": "code",
   "execution_count": null,
   "id": "6a49cf0a",
   "metadata": {},
   "outputs": [],
   "source": [
    "import shutil\n",
    "from pathlib import Path\n",
    "\n",
    "with pd.option_context('display.max_rows', None):\n",
    "    workdir = Path(f\"work_dataset/{ELEMENT}/{DAMAGE}/photos\")\n",
    "    workdir.mkdir(parents=True, exist_ok=True)\n",
    "\n",
    "    for f in filepaths.values:\n",
    "        src = Path(f)\n",
    "\n",
    "        src_fldr = src.parts[-2]\n",
    "        dest = workdir.joinpath(f\"{src_fldr}_{src.name}\")\n",
    "\n",
    "        try: \n",
    "            shutil.copy(src, dest)\n",
    "        except Exception as e:\n",
    "            print(e)\n",
    "            continue"
   ]
  },
  {
   "cell_type": "code",
   "execution_count": null,
   "id": "a69db818",
   "metadata": {},
   "outputs": [],
   "source": [
    "# Difference between thoretically available files and physically copied ones:\n",
    "loc = len(one_class)\n",
    "lwd = len([n for n in os.listdir(workdir)])\n",
    "\n",
    "print(\"number of files in one: \", loc)\n",
    "print(\"number of files copied: \", lwd)\n",
    "print(\"Difference: \", loc - lwd)"
   ]
  },
  {
   "cell_type": "markdown",
   "id": "cf95cce2",
   "metadata": {},
   "source": [
    "### Check files"
   ]
  },
  {
   "cell_type": "code",
   "execution_count": null,
   "id": "e3a6e20d",
   "metadata": {},
   "outputs": [],
   "source": [
    "# Are all files proper jpgs?\n",
    "\n",
    "import fnmatch\n",
    "\n",
    "jpgs = [path for path in workdir.rglob(\"*.jp*g\", case_sensitive=False)]\n",
    "\n",
    "not_jpgs_files = [f for f in workdir.rglob(\"*\") if not fnmatch.fnmatch(f.name, '*.jp*g')]\n",
    "\n",
    "num_jpgs = len(jpgs)\n",
    "\n",
    "print(\"Number of jpgs: \", num_jpgs)\n",
    "print(\"Number of not_jpgs: \", len(not_jpgs_files))\n",
    "print(\"Difference between workidr and counted jpgs: \", lwd - num_jpgs)"
   ]
  },
  {
   "cell_type": "code",
   "execution_count": null,
   "id": "9c46ce2b",
   "metadata": {},
   "outputs": [],
   "source": [
    "num_skipped = 0\n",
    "\n",
    "for path in workdir.rglob(\"*\"):\n",
    "    with open(path, \"rb\") as file:\n",
    "        is_jfif = b\"JFIF\" in file.peek(10)\n",
    "    if not is_jfif:\n",
    "        num_skipped += 1\n",
    "        print(path)\n",
    "        os.remove(path)\n",
    "\n",
    "\n",
    "\n",
    "print(\"No JFIF file: \", num_skipped)\n"
   ]
  },
  {
   "cell_type": "code",
   "execution_count": null,
   "id": "b1dd2354",
   "metadata": {},
   "outputs": [],
   "source": [
    "# Add proper suffixes\n",
    "\n",
    "for f in not_jpgs_files:\n",
    "    print(f)\n",
    "    os.rename(f, f.with_suffix(\".jpg\"))"
   ]
  },
  {
   "cell_type": "code",
   "execution_count": null,
   "id": "3531df96",
   "metadata": {},
   "outputs": [],
   "source": [
    "jpgs = [path for path in workdir.rglob(\"*.jp*g\", case_sensitive=False)]\n",
    "not_jpgs_files = [f for f in workdir.rglob(\"*\") if not fnmatch.fnmatch(f.name, '*.jp*g')]\n",
    "\n",
    "print(\"Number of jpgs: \", len(jpgs))\n",
    "print(\"Number of not_jpgs: \", len(not_jpgs_files))"
   ]
  },
  {
   "cell_type": "markdown",
   "id": "16de9a57",
   "metadata": {},
   "source": [
    "Sprawdzaj czy mają tę samą rozdzielczość\n",
    "\n",
    "jakie mają proporcje?"
   ]
  },
  {
   "cell_type": "code",
   "execution_count": null,
   "id": "11cfd9f0",
   "metadata": {},
   "outputs": [],
   "source": [
    "import PIL.Image\n",
    "from fractions import Fraction\n",
    "from collections import Counter\n",
    "\n",
    "sizes_dict = Counter()\n",
    "ratio_dict = Counter()\n",
    "\n",
    "for j in jpgs:\n",
    "    img = PIL.Image.open(j)\n",
    "    w, h = img.size\n",
    "    img_size = (w,h)\n",
    "    sizes_dict[img_size] += 1\n",
    "    ratio = Fraction(w, h).as_integer_ratio()\n",
    "    ratio_dict[ratio] += 1 "
   ]
  },
  {
   "cell_type": "code",
   "execution_count": null,
   "id": "fa70d207",
   "metadata": {},
   "outputs": [],
   "source": [
    "for k, v in sizes_dict.items():\n",
    "    print(f\"{k}: {v}\")"
   ]
  },
  {
   "cell_type": "code",
   "execution_count": null,
   "id": "f1ad70c1",
   "metadata": {},
   "outputs": [],
   "source": [
    "for k, v in ratio_dict.items():\n",
    "    print(f\"{k}: {v}\")"
   ]
  },
  {
   "cell_type": "code",
   "execution_count": null,
   "id": "21b045b8",
   "metadata": {},
   "outputs": [],
   "source": [
    "import matplotlib.pyplot as plt\n",
    "\n",
    "x, y = zip(*[(str(k), v) for k, v in sizes_dict.items()])\n",
    "plt.figure(figsize=(12, 6))  # Increase figure size if needed\n",
    "plt.bar(x, y)\n",
    "plt.xticks(rotation=45, ha='right')  # Rotate labels and align right\n",
    "plt.tight_layout()  # Adjust layout to prevent clipping\n",
    "plt.show()"
   ]
  },
  {
   "cell_type": "code",
   "execution_count": null,
   "id": "9b0e595b",
   "metadata": {},
   "outputs": [],
   "source": []
  }
 ],
 "metadata": {
  "kernelspec": {
   "display_name": ".venv",
   "language": "python",
   "name": "python3"
  },
  "language_info": {
   "codemirror_mode": {
    "name": "ipython",
    "version": 3
   },
   "file_extension": ".py",
   "mimetype": "text/x-python",
   "name": "python",
   "nbconvert_exporter": "python",
   "pygments_lexer": "ipython3",
   "version": "3.12.10"
  }
 },
 "nbformat": 4,
 "nbformat_minor": 5
}
